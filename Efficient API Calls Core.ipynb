{
 "cells": [
  {
   "cell_type": "markdown",
   "id": "3f9f59c4",
   "metadata": {},
   "source": [
    "# Efficient API calls"
   ]
  },
  {
   "cell_type": "code",
   "execution_count": 1,
   "id": "5dc6eeb7",
   "metadata": {},
   "outputs": [],
   "source": [
    "# Standard Imports\n",
    "import numpy as np\n",
    "import pandas as pd\n",
    "import matplotlib.pyplot as plt\n",
    "import seaborn as sns\n",
    "\n",
    "# Additional Imports\n",
    "import os, json, math, time\n",
    "from yelpapi import YelpAPI\n",
    "from tqdm.notebook import tqdm_notebook"
   ]
  },
  {
   "cell_type": "code",
   "execution_count": 2,
   "id": "d1415167",
   "metadata": {},
   "outputs": [],
   "source": [
    "#Load API Credentials\n",
    "\n",
    "with open('/Users/vinosraj/.secret/yelp_api.json') as f: #change the path to match YOUR path!!\n",
    "    login = json.load(f)\n",
    "login.keys()\n",
    "\n",
    "#instantiate YelpAPI variable\n",
    "yelp_api = YelpAPI(login['api-key'], timeout_s=5.0)\n"
   ]
  },
  {
   "cell_type": "code",
   "execution_count": 3,
   "id": "555ac02e",
   "metadata": {},
   "outputs": [],
   "source": [
    "#set our API call parameters\n",
    "\n",
    "LOCATION = 'Minneapolis, MN'\n",
    "TERM = 'Indian'"
   ]
  },
  {
   "cell_type": "code",
   "execution_count": 5,
   "id": "0a566284",
   "metadata": {},
   "outputs": [
    {
     "data": {
      "text/plain": [
       "'Data/results_in_progress_indian.json'"
      ]
     },
     "execution_count": 5,
     "metadata": {},
     "output_type": "execute_result"
    }
   ],
   "source": [
    "#JSON file name\n",
    "\n",
    "JSON_FILE = f\"Data/results_in_progress_indian.json\"\n",
    "JSON_FILE"
   ]
  },
  {
   "cell_type": "code",
   "execution_count": 6,
   "id": "ac2daa19",
   "metadata": {},
   "outputs": [
    {
     "name": "stdout",
     "output_type": "stream",
     "text": [
      "[i] Data/results_in_progress_indian.json not found. Saving empty list to file.\n"
     ]
    }
   ],
   "source": [
    "## Check if JSON_FILE exists\n",
    "file_exists = os.path.isfile(JSON_FILE)\n",
    "## If it does not exist: \n",
    "if file_exists == False:\n",
    "    \n",
    "    ## CREATE ANY NEEDED FOLDERS\n",
    "    # Get the Folder Name only\n",
    "    folder = os.path.dirname(JSON_FILE)\n",
    "    ## If JSON_FILE included a folder:\n",
    "    if len(folder)>0:\n",
    "        # create the folder\n",
    "        os.makedirs(folder,exist_ok=True)\n",
    "        \n",
    "        \n",
    "    ## INFORM USER AND SAVE EMPTY LIST\n",
    "    print(f\"[i] {JSON_FILE} not found. Saving empty list to file.\")\n",
    "    \n",
    "    \n",
    "    ## save the first page of results\n",
    "    with open(JSON_FILE,'w') as f:\n",
    "        json.dump([],f)  \n",
    "## If it exists, inform user\n",
    "else:\n",
    "    print(f\"[i] {JSON_FILE} already exists.\")"
   ]
  },
  {
   "cell_type": "code",
   "execution_count": 7,
   "id": "bccca79b",
   "metadata": {},
   "outputs": [
    {
     "name": "stdout",
     "output_type": "stream",
     "text": [
      "- 0 previous results found.\n"
     ]
    }
   ],
   "source": [
    "## Load previous results and use len of results for offset\n",
    "with open(JSON_FILE,'r') as f:\n",
    "    previous_results = json.load(f)\n",
    "    \n",
    "## set offset based on previous results\n",
    "n_results = len(previous_results)\n",
    "print(f'- {n_results} previous results found.')"
   ]
  },
  {
   "cell_type": "code",
   "execution_count": 8,
   "id": "a22e123f",
   "metadata": {},
   "outputs": [
    {
     "data": {
      "text/plain": [
       "dict_keys(['businesses', 'total', 'region'])"
      ]
     },
     "execution_count": 8,
     "metadata": {},
     "output_type": "execute_result"
    }
   ],
   "source": [
    "# use our yelp_api variable's search_query method to perform our API call\n",
    "results = yelp_api.search_query(location=LOCATION,\n",
    "                                term=TERM,\n",
    "                               offset=n_results+1)\n",
    "results.keys()"
   ]
  },
  {
   "cell_type": "code",
   "execution_count": 9,
   "id": "1bd5aad3",
   "metadata": {},
   "outputs": [
    {
     "data": {
      "text/plain": [
       "78"
      ]
     },
     "execution_count": 9,
     "metadata": {},
     "output_type": "execute_result"
    }
   ],
   "source": [
    "## How many results total?\n",
    "total_results = results['total']\n",
    "total_results"
   ]
  },
  {
   "cell_type": "code",
   "execution_count": 10,
   "id": "7565a9ce",
   "metadata": {},
   "outputs": [
    {
     "data": {
      "text/plain": [
       "20"
      ]
     },
     "execution_count": 10,
     "metadata": {},
     "output_type": "execute_result"
    }
   ],
   "source": [
    "## How many did we get the details for?\n",
    "results_per_page = len(results['businesses'])\n",
    "results_per_page"
   ]
  },
  {
   "cell_type": "code",
   "execution_count": 11,
   "id": "16901b77",
   "metadata": {},
   "outputs": [
    {
     "data": {
      "text/plain": [
       "4"
      ]
     },
     "execution_count": 11,
     "metadata": {},
     "output_type": "execute_result"
    }
   ],
   "source": [
    "# Import additional packages for controlling our loop\n",
    "import time, math\n",
    "# Use math.ceil to round up for the total number of pages of results.\n",
    "n_pages = math.ceil((results['total']-n_results)/ results_per_page)\n",
    "n_pages"
   ]
  },
  {
   "cell_type": "code",
   "execution_count": 12,
   "id": "a9669729",
   "metadata": {},
   "outputs": [],
   "source": [
    "# join new results with old list with extend and save to file\n",
    "previous_results.extend(results['businesses'])  \n",
    "with open(JSON_FILE,'w') as f:\n",
    "     json.dump(previous_results,f)"
   ]
  },
  {
   "cell_type": "code",
   "execution_count": 13,
   "id": "ae6eeebc",
   "metadata": {},
   "outputs": [
    {
     "data": {
      "application/vnd.jupyter.widget-view+json": {
       "model_id": "560697b7d9614b71a15478fde7f08c70",
       "version_major": 2,
       "version_minor": 0
      },
      "text/plain": [
       "  0%|          | 0/4 [00:00<?, ?it/s]"
      ]
     },
     "metadata": {},
     "output_type": "display_data"
    }
   ],
   "source": [
    "from tqdm.notebook import tqdm_notebook\n",
    "import time\n",
    "for i in tqdm_notebook(range(n_pages)):\n",
    "    # adds 200 ms pause\n",
    "    time.sleep(.2) "
   ]
  },
  {
   "cell_type": "code",
   "execution_count": 14,
   "id": "5caf403b",
   "metadata": {},
   "outputs": [
    {
     "data": {
      "application/vnd.jupyter.widget-view+json": {
       "model_id": "8b76582f0b2b4b15baee9e55a7102a95",
       "version_major": 2,
       "version_minor": 0
      },
      "text/plain": [
       "  0%|          | 0/4 [00:00<?, ?it/s]"
      ]
     },
     "metadata": {},
     "output_type": "display_data"
    }
   ],
   "source": [
    "for i in tqdm_notebook( range(1,n_pages+1)):\n",
    "    time.sleep(.2)\n",
    "    ## Read in results in progress file and check the length\n",
    "    with open(JSON_FILE, 'r') as f:\n",
    "        previous_results = json.load(f)\n",
    "    ## save number of results for to use as offset\n",
    "    n_results = len(previous_results)\n",
    "    ## use n_results as the OFFSET \n",
    "    results = yelp_api.search_query(location=LOCATION,\n",
    "                                    term=TERM, \n",
    "                                    offset=n_results)\n",
    "    \n",
    "    ## append new results and save to file\n",
    "    previous_results.extend(results['businesses'])\n",
    "    \n",
    "#     display(previous_results)\n",
    "    with open(JSON_FILE,'w') as f:\n",
    "        json.dump(previous_results,f)"
   ]
  },
  {
   "cell_type": "code",
   "execution_count": 15,
   "id": "ad291c4f",
   "metadata": {},
   "outputs": [
    {
     "data": {
      "text/html": [
       "<div>\n",
       "<style scoped>\n",
       "    .dataframe tbody tr th:only-of-type {\n",
       "        vertical-align: middle;\n",
       "    }\n",
       "\n",
       "    .dataframe tbody tr th {\n",
       "        vertical-align: top;\n",
       "    }\n",
       "\n",
       "    .dataframe thead th {\n",
       "        text-align: right;\n",
       "    }\n",
       "</style>\n",
       "<table border=\"1\" class=\"dataframe\">\n",
       "  <thead>\n",
       "    <tr style=\"text-align: right;\">\n",
       "      <th></th>\n",
       "      <th>id</th>\n",
       "      <th>alias</th>\n",
       "      <th>name</th>\n",
       "      <th>image_url</th>\n",
       "      <th>is_closed</th>\n",
       "      <th>url</th>\n",
       "      <th>review_count</th>\n",
       "      <th>categories</th>\n",
       "      <th>rating</th>\n",
       "      <th>coordinates</th>\n",
       "      <th>transactions</th>\n",
       "      <th>location</th>\n",
       "      <th>phone</th>\n",
       "      <th>display_phone</th>\n",
       "      <th>distance</th>\n",
       "      <th>price</th>\n",
       "    </tr>\n",
       "  </thead>\n",
       "  <tbody>\n",
       "    <tr>\n",
       "      <th>0</th>\n",
       "      <td>_C2rFjlRsKsMawQp8WTjiA</td>\n",
       "      <td>the-hyderabad-indian-grill-minneapolis-minneap...</td>\n",
       "      <td>The Hyderabad Indian Grill - Minneapolis</td>\n",
       "      <td>https://s3-media1.fl.yelpcdn.com/bphoto/DNkQau...</td>\n",
       "      <td>False</td>\n",
       "      <td>https://www.yelp.com/biz/the-hyderabad-indian-...</td>\n",
       "      <td>36</td>\n",
       "      <td>[{'alias': 'indpak', 'title': 'Indian'}]</td>\n",
       "      <td>4.0</td>\n",
       "      <td>{'latitude': 45.064837, 'longitude': -93.2490113}</td>\n",
       "      <td>[delivery, pickup]</td>\n",
       "      <td>{'address1': '765 53rd Ave NE', 'address2': No...</td>\n",
       "      <td>+17636571047</td>\n",
       "      <td>(763) 657-1047</td>\n",
       "      <td>11506.028102</td>\n",
       "      <td>NaN</td>\n",
       "    </tr>\n",
       "    <tr>\n",
       "      <th>1</th>\n",
       "      <td>uETQZ6X9HAGPzozGgqjtiQ</td>\n",
       "      <td>gorkha-palace-minneapolis</td>\n",
       "      <td>Gorkha Palace</td>\n",
       "      <td>https://s3-media4.fl.yelpcdn.com/bphoto/NCJvv7...</td>\n",
       "      <td>False</td>\n",
       "      <td>https://www.yelp.com/biz/gorkha-palace-minneap...</td>\n",
       "      <td>444</td>\n",
       "      <td>[{'alias': 'himalayan', 'title': 'Himalayan/Ne...</td>\n",
       "      <td>4.5</td>\n",
       "      <td>{'latitude': 44.989277, 'longitude': -93.255079}</td>\n",
       "      <td>[delivery, pickup]</td>\n",
       "      <td>{'address1': '23 4th St NE', 'address2': '', '...</td>\n",
       "      <td>+16128863451</td>\n",
       "      <td>(612) 886-3451</td>\n",
       "      <td>3829.046150</td>\n",
       "      <td>$$</td>\n",
       "    </tr>\n",
       "    <tr>\n",
       "      <th>2</th>\n",
       "      <td>zu4zzewGmBYg6z_3vG1xFQ</td>\n",
       "      <td>godavari-truly-south-indian-restaurant-eden-pr...</td>\n",
       "      <td>Godavari Truly South Indian Restaurant</td>\n",
       "      <td>https://s3-media1.fl.yelpcdn.com/bphoto/t-al8g...</td>\n",
       "      <td>False</td>\n",
       "      <td>https://www.yelp.com/biz/godavari-truly-south-...</td>\n",
       "      <td>41</td>\n",
       "      <td>[{'alias': 'indpak', 'title': 'Indian'}]</td>\n",
       "      <td>4.0</td>\n",
       "      <td>{'latitude': 44.851644, 'longitude': -93.429161}</td>\n",
       "      <td>[delivery, pickup]</td>\n",
       "      <td>{'address1': '566 Prairie Center Dr', 'address...</td>\n",
       "      <td>+19529418242</td>\n",
       "      <td>(952) 941-8242</td>\n",
       "      <td>16726.755905</td>\n",
       "      <td>NaN</td>\n",
       "    </tr>\n",
       "    <tr>\n",
       "      <th>3</th>\n",
       "      <td>EETP-7tP_eQf7JsK6D3hig</td>\n",
       "      <td>india-palace-uptown-minneapolis-3</td>\n",
       "      <td>India Palace Uptown</td>\n",
       "      <td>https://s3-media2.fl.yelpcdn.com/bphoto/oa54UC...</td>\n",
       "      <td>False</td>\n",
       "      <td>https://www.yelp.com/biz/india-palace-uptown-m...</td>\n",
       "      <td>191</td>\n",
       "      <td>[{'alias': 'indpak', 'title': 'Indian'}]</td>\n",
       "      <td>4.0</td>\n",
       "      <td>{'latitude': 44.956095, 'longitude': -93.2966238}</td>\n",
       "      <td>[delivery, pickup]</td>\n",
       "      <td>{'address1': '2546 Hennepin Ave S', 'address2'...</td>\n",
       "      <td>+16123775000</td>\n",
       "      <td>(612) 377-5000</td>\n",
       "      <td>1178.257656</td>\n",
       "      <td>$$</td>\n",
       "    </tr>\n",
       "    <tr>\n",
       "      <th>4</th>\n",
       "      <td>E8wLXmYBg8Af4lEoX4K7dg</td>\n",
       "      <td>tamarind-indian-cuisine-edina</td>\n",
       "      <td>Tamarind Indian Cuisine</td>\n",
       "      <td>https://s3-media3.fl.yelpcdn.com/bphoto/aQnrOy...</td>\n",
       "      <td>False</td>\n",
       "      <td>https://www.yelp.com/biz/tamarind-indian-cuisi...</td>\n",
       "      <td>42</td>\n",
       "      <td>[{'alias': 'indpak', 'title': 'Indian'}]</td>\n",
       "      <td>4.5</td>\n",
       "      <td>{'latitude': 44.8700388, 'longitude': -93.3280...</td>\n",
       "      <td>[delivery, pickup]</td>\n",
       "      <td>{'address1': '3875 Gallagher Dr', 'address2': ...</td>\n",
       "      <td>+19526817735</td>\n",
       "      <td>(952) 681-7735</td>\n",
       "      <td>11034.895687</td>\n",
       "      <td>$$</td>\n",
       "    </tr>\n",
       "  </tbody>\n",
       "</table>\n",
       "</div>"
      ],
      "text/plain": [
       "                       id                                              alias  \\\n",
       "0  _C2rFjlRsKsMawQp8WTjiA  the-hyderabad-indian-grill-minneapolis-minneap...   \n",
       "1  uETQZ6X9HAGPzozGgqjtiQ                          gorkha-palace-minneapolis   \n",
       "2  zu4zzewGmBYg6z_3vG1xFQ  godavari-truly-south-indian-restaurant-eden-pr...   \n",
       "3  EETP-7tP_eQf7JsK6D3hig                  india-palace-uptown-minneapolis-3   \n",
       "4  E8wLXmYBg8Af4lEoX4K7dg                      tamarind-indian-cuisine-edina   \n",
       "\n",
       "                                       name  \\\n",
       "0  The Hyderabad Indian Grill - Minneapolis   \n",
       "1                             Gorkha Palace   \n",
       "2    Godavari Truly South Indian Restaurant   \n",
       "3                       India Palace Uptown   \n",
       "4                   Tamarind Indian Cuisine   \n",
       "\n",
       "                                           image_url  is_closed  \\\n",
       "0  https://s3-media1.fl.yelpcdn.com/bphoto/DNkQau...      False   \n",
       "1  https://s3-media4.fl.yelpcdn.com/bphoto/NCJvv7...      False   \n",
       "2  https://s3-media1.fl.yelpcdn.com/bphoto/t-al8g...      False   \n",
       "3  https://s3-media2.fl.yelpcdn.com/bphoto/oa54UC...      False   \n",
       "4  https://s3-media3.fl.yelpcdn.com/bphoto/aQnrOy...      False   \n",
       "\n",
       "                                                 url  review_count  \\\n",
       "0  https://www.yelp.com/biz/the-hyderabad-indian-...            36   \n",
       "1  https://www.yelp.com/biz/gorkha-palace-minneap...           444   \n",
       "2  https://www.yelp.com/biz/godavari-truly-south-...            41   \n",
       "3  https://www.yelp.com/biz/india-palace-uptown-m...           191   \n",
       "4  https://www.yelp.com/biz/tamarind-indian-cuisi...            42   \n",
       "\n",
       "                                          categories  rating  \\\n",
       "0           [{'alias': 'indpak', 'title': 'Indian'}]     4.0   \n",
       "1  [{'alias': 'himalayan', 'title': 'Himalayan/Ne...     4.5   \n",
       "2           [{'alias': 'indpak', 'title': 'Indian'}]     4.0   \n",
       "3           [{'alias': 'indpak', 'title': 'Indian'}]     4.0   \n",
       "4           [{'alias': 'indpak', 'title': 'Indian'}]     4.5   \n",
       "\n",
       "                                         coordinates        transactions  \\\n",
       "0  {'latitude': 45.064837, 'longitude': -93.2490113}  [delivery, pickup]   \n",
       "1   {'latitude': 44.989277, 'longitude': -93.255079}  [delivery, pickup]   \n",
       "2   {'latitude': 44.851644, 'longitude': -93.429161}  [delivery, pickup]   \n",
       "3  {'latitude': 44.956095, 'longitude': -93.2966238}  [delivery, pickup]   \n",
       "4  {'latitude': 44.8700388, 'longitude': -93.3280...  [delivery, pickup]   \n",
       "\n",
       "                                            location         phone  \\\n",
       "0  {'address1': '765 53rd Ave NE', 'address2': No...  +17636571047   \n",
       "1  {'address1': '23 4th St NE', 'address2': '', '...  +16128863451   \n",
       "2  {'address1': '566 Prairie Center Dr', 'address...  +19529418242   \n",
       "3  {'address1': '2546 Hennepin Ave S', 'address2'...  +16123775000   \n",
       "4  {'address1': '3875 Gallagher Dr', 'address2': ...  +19526817735   \n",
       "\n",
       "    display_phone      distance price  \n",
       "0  (763) 657-1047  11506.028102   NaN  \n",
       "1  (612) 886-3451   3829.046150    $$  \n",
       "2  (952) 941-8242  16726.755905   NaN  \n",
       "3  (612) 377-5000   1178.257656    $$  \n",
       "4  (952) 681-7735  11034.895687    $$  "
      ]
     },
     "metadata": {},
     "output_type": "display_data"
    },
    {
     "data": {
      "text/html": [
       "<div>\n",
       "<style scoped>\n",
       "    .dataframe tbody tr th:only-of-type {\n",
       "        vertical-align: middle;\n",
       "    }\n",
       "\n",
       "    .dataframe tbody tr th {\n",
       "        vertical-align: top;\n",
       "    }\n",
       "\n",
       "    .dataframe thead th {\n",
       "        text-align: right;\n",
       "    }\n",
       "</style>\n",
       "<table border=\"1\" class=\"dataframe\">\n",
       "  <thead>\n",
       "    <tr style=\"text-align: right;\">\n",
       "      <th></th>\n",
       "      <th>id</th>\n",
       "      <th>alias</th>\n",
       "      <th>name</th>\n",
       "      <th>image_url</th>\n",
       "      <th>is_closed</th>\n",
       "      <th>url</th>\n",
       "      <th>review_count</th>\n",
       "      <th>categories</th>\n",
       "      <th>rating</th>\n",
       "      <th>coordinates</th>\n",
       "      <th>transactions</th>\n",
       "      <th>location</th>\n",
       "      <th>phone</th>\n",
       "      <th>display_phone</th>\n",
       "      <th>distance</th>\n",
       "      <th>price</th>\n",
       "    </tr>\n",
       "  </thead>\n",
       "  <tbody>\n",
       "    <tr>\n",
       "      <th>73</th>\n",
       "      <td>C4BpEUEUEYG8y-14tajfzw</td>\n",
       "      <td>foxy-falafel-saint-paul</td>\n",
       "      <td>Foxy Falafel</td>\n",
       "      <td>https://s3-media2.fl.yelpcdn.com/bphoto/L1IHV0...</td>\n",
       "      <td>False</td>\n",
       "      <td>https://www.yelp.com/biz/foxy-falafel-saint-pa...</td>\n",
       "      <td>141</td>\n",
       "      <td>[{'alias': 'mideastern', 'title': 'Middle East...</td>\n",
       "      <td>3.5</td>\n",
       "      <td>{'latitude': 44.965217590332, 'longitude': -93...</td>\n",
       "      <td>[delivery]</td>\n",
       "      <td>{'address1': '791 Raymond Ave', 'address2': No...</td>\n",
       "      <td>+16518882255</td>\n",
       "      <td>(651) 888-2255</td>\n",
       "      <td>7286.869290</td>\n",
       "      <td>$$</td>\n",
       "    </tr>\n",
       "    <tr>\n",
       "      <th>74</th>\n",
       "      <td>Ysv8SsJ40PzqBbbU0tRfHA</td>\n",
       "      <td>tea-house-plymouth</td>\n",
       "      <td>Tea House</td>\n",
       "      <td>https://s3-media4.fl.yelpcdn.com/bphoto/v3g4tk...</td>\n",
       "      <td>False</td>\n",
       "      <td>https://www.yelp.com/biz/tea-house-plymouth?ad...</td>\n",
       "      <td>211</td>\n",
       "      <td>[{'alias': 'chinese', 'title': 'Chinese'}, {'a...</td>\n",
       "      <td>3.0</td>\n",
       "      <td>{'latitude': 44.9789437571851, 'longitude': -9...</td>\n",
       "      <td>[pickup, delivery]</td>\n",
       "      <td>{'address1': '88 Nathan Ln N', 'address2': '',...</td>\n",
       "      <td>+17635443422</td>\n",
       "      <td>(763) 544-3422</td>\n",
       "      <td>9296.767045</td>\n",
       "      <td>$$</td>\n",
       "    </tr>\n",
       "    <tr>\n",
       "      <th>75</th>\n",
       "      <td>jc8lDXcgN9_QZrZEHxvHwQ</td>\n",
       "      <td>skyway-masala-st-paul</td>\n",
       "      <td>Skyway Masala</td>\n",
       "      <td>https://s3-media4.fl.yelpcdn.com/bphoto/tXDqfE...</td>\n",
       "      <td>False</td>\n",
       "      <td>https://www.yelp.com/biz/skyway-masala-st-paul...</td>\n",
       "      <td>7</td>\n",
       "      <td>[{'alias': 'halal', 'title': 'Halal'}, {'alias...</td>\n",
       "      <td>4.0</td>\n",
       "      <td>{'latitude': 44.94750777413626, 'longitude': -...</td>\n",
       "      <td>[pickup, delivery]</td>\n",
       "      <td>{'address1': '444 Cedar St', 'address2': 'Ste ...</td>\n",
       "      <td>+13205669759</td>\n",
       "      <td>(320) 566-9759</td>\n",
       "      <td>15593.798510</td>\n",
       "      <td>NaN</td>\n",
       "    </tr>\n",
       "    <tr>\n",
       "      <th>76</th>\n",
       "      <td>Rd8NDXv5JMaIdbRd1OBeLA</td>\n",
       "      <td>gyro-house-rogers-3</td>\n",
       "      <td>Gyro House</td>\n",
       "      <td>https://s3-media2.fl.yelpcdn.com/bphoto/T4N_dl...</td>\n",
       "      <td>False</td>\n",
       "      <td>https://www.yelp.com/biz/gyro-house-rogers-3?a...</td>\n",
       "      <td>37</td>\n",
       "      <td>[{'alias': 'greek', 'title': 'Greek'}, {'alias...</td>\n",
       "      <td>4.0</td>\n",
       "      <td>{'latitude': 45.21156, 'longitude': -93.55105}</td>\n",
       "      <td>[pickup, delivery]</td>\n",
       "      <td>{'address1': '14165 James Rd', 'address2': 'St...</td>\n",
       "      <td>+17635951140</td>\n",
       "      <td>(763) 595-1140</td>\n",
       "      <td>34173.982247</td>\n",
       "      <td>NaN</td>\n",
       "    </tr>\n",
       "    <tr>\n",
       "      <th>77</th>\n",
       "      <td>kv7WFRPzN6KYhN-1cOFxBQ</td>\n",
       "      <td>indian-zyka-eagan</td>\n",
       "      <td>Indian Zyka</td>\n",
       "      <td></td>\n",
       "      <td>False</td>\n",
       "      <td>https://www.yelp.com/biz/indian-zyka-eagan?adj...</td>\n",
       "      <td>1</td>\n",
       "      <td>[{'alias': 'indpak', 'title': 'Indian'}]</td>\n",
       "      <td>1.0</td>\n",
       "      <td>{'latitude': 44.81887435913086, 'longitude': -...</td>\n",
       "      <td>[]</td>\n",
       "      <td>{'address1': '', 'address2': '', 'address3': '...</td>\n",
       "      <td></td>\n",
       "      <td></td>\n",
       "      <td>15250.414739</td>\n",
       "      <td>$$</td>\n",
       "    </tr>\n",
       "  </tbody>\n",
       "</table>\n",
       "</div>"
      ],
      "text/plain": [
       "                        id                    alias           name  \\\n",
       "73  C4BpEUEUEYG8y-14tajfzw  foxy-falafel-saint-paul   Foxy Falafel   \n",
       "74  Ysv8SsJ40PzqBbbU0tRfHA       tea-house-plymouth      Tea House   \n",
       "75  jc8lDXcgN9_QZrZEHxvHwQ    skyway-masala-st-paul  Skyway Masala   \n",
       "76  Rd8NDXv5JMaIdbRd1OBeLA      gyro-house-rogers-3     Gyro House   \n",
       "77  kv7WFRPzN6KYhN-1cOFxBQ        indian-zyka-eagan    Indian Zyka   \n",
       "\n",
       "                                            image_url  is_closed  \\\n",
       "73  https://s3-media2.fl.yelpcdn.com/bphoto/L1IHV0...      False   \n",
       "74  https://s3-media4.fl.yelpcdn.com/bphoto/v3g4tk...      False   \n",
       "75  https://s3-media4.fl.yelpcdn.com/bphoto/tXDqfE...      False   \n",
       "76  https://s3-media2.fl.yelpcdn.com/bphoto/T4N_dl...      False   \n",
       "77                                                         False   \n",
       "\n",
       "                                                  url  review_count  \\\n",
       "73  https://www.yelp.com/biz/foxy-falafel-saint-pa...           141   \n",
       "74  https://www.yelp.com/biz/tea-house-plymouth?ad...           211   \n",
       "75  https://www.yelp.com/biz/skyway-masala-st-paul...             7   \n",
       "76  https://www.yelp.com/biz/gyro-house-rogers-3?a...            37   \n",
       "77  https://www.yelp.com/biz/indian-zyka-eagan?adj...             1   \n",
       "\n",
       "                                           categories  rating  \\\n",
       "73  [{'alias': 'mideastern', 'title': 'Middle East...     3.5   \n",
       "74  [{'alias': 'chinese', 'title': 'Chinese'}, {'a...     3.0   \n",
       "75  [{'alias': 'halal', 'title': 'Halal'}, {'alias...     4.0   \n",
       "76  [{'alias': 'greek', 'title': 'Greek'}, {'alias...     4.0   \n",
       "77           [{'alias': 'indpak', 'title': 'Indian'}]     1.0   \n",
       "\n",
       "                                          coordinates        transactions  \\\n",
       "73  {'latitude': 44.965217590332, 'longitude': -93...          [delivery]   \n",
       "74  {'latitude': 44.9789437571851, 'longitude': -9...  [pickup, delivery]   \n",
       "75  {'latitude': 44.94750777413626, 'longitude': -...  [pickup, delivery]   \n",
       "76     {'latitude': 45.21156, 'longitude': -93.55105}  [pickup, delivery]   \n",
       "77  {'latitude': 44.81887435913086, 'longitude': -...                  []   \n",
       "\n",
       "                                             location         phone  \\\n",
       "73  {'address1': '791 Raymond Ave', 'address2': No...  +16518882255   \n",
       "74  {'address1': '88 Nathan Ln N', 'address2': '',...  +17635443422   \n",
       "75  {'address1': '444 Cedar St', 'address2': 'Ste ...  +13205669759   \n",
       "76  {'address1': '14165 James Rd', 'address2': 'St...  +17635951140   \n",
       "77  {'address1': '', 'address2': '', 'address3': '...                 \n",
       "\n",
       "     display_phone      distance price  \n",
       "73  (651) 888-2255   7286.869290    $$  \n",
       "74  (763) 544-3422   9296.767045    $$  \n",
       "75  (320) 566-9759  15593.798510   NaN  \n",
       "76  (763) 595-1140  34173.982247   NaN  \n",
       "77                  15250.414739    $$  "
      ]
     },
     "metadata": {},
     "output_type": "display_data"
    }
   ],
   "source": [
    "# load final results\n",
    "final_df = pd.read_json(JSON_FILE)\n",
    "display(final_df.head(), final_df.tail())"
   ]
  },
  {
   "cell_type": "code",
   "execution_count": 16,
   "id": "93db17f0",
   "metadata": {},
   "outputs": [
    {
     "data": {
      "text/plain": [
       "1"
      ]
     },
     "execution_count": 16,
     "metadata": {},
     "output_type": "execute_result"
    }
   ],
   "source": [
    "# check for duplicate IDs\n",
    "final_df.duplicated(subset='id').sum()"
   ]
  },
  {
   "cell_type": "code",
   "execution_count": 26,
   "id": "455d4254",
   "metadata": {},
   "outputs": [],
   "source": [
    "final_df.drop_duplicates(subset='id', keep='last', inplace=True)"
   ]
  },
  {
   "cell_type": "code",
   "execution_count": 21,
   "id": "afbd1270",
   "metadata": {},
   "outputs": [
    {
     "data": {
      "text/plain": [
       "0     False\n",
       "1     False\n",
       "2     False\n",
       "3     False\n",
       "4     False\n",
       "      ...  \n",
       "73    False\n",
       "74    False\n",
       "75    False\n",
       "76    False\n",
       "77    False\n",
       "Name: id, Length: 78, dtype: bool"
      ]
     },
     "execution_count": 21,
     "metadata": {},
     "output_type": "execute_result"
    }
   ],
   "source": [
    "final_df['id'].map(lambda x: type(x)== 'list')"
   ]
  },
  {
   "cell_type": "code",
   "execution_count": 27,
   "id": "9dd0dbb3",
   "metadata": {},
   "outputs": [
    {
     "data": {
      "text/plain": [
       "0"
      ]
     },
     "execution_count": 27,
     "metadata": {},
     "output_type": "execute_result"
    }
   ],
   "source": [
    "final_df.duplicated(subset='id').sum()"
   ]
  },
  {
   "cell_type": "code",
   "execution_count": 28,
   "id": "95682c1a",
   "metadata": {},
   "outputs": [
    {
     "data": {
      "text/html": [
       "<div>\n",
       "<style scoped>\n",
       "    .dataframe tbody tr th:only-of-type {\n",
       "        vertical-align: middle;\n",
       "    }\n",
       "\n",
       "    .dataframe tbody tr th {\n",
       "        vertical-align: top;\n",
       "    }\n",
       "\n",
       "    .dataframe thead th {\n",
       "        text-align: right;\n",
       "    }\n",
       "</style>\n",
       "<table border=\"1\" class=\"dataframe\">\n",
       "  <thead>\n",
       "    <tr style=\"text-align: right;\">\n",
       "      <th></th>\n",
       "      <th>id</th>\n",
       "      <th>alias</th>\n",
       "      <th>name</th>\n",
       "      <th>image_url</th>\n",
       "      <th>is_closed</th>\n",
       "      <th>url</th>\n",
       "      <th>review_count</th>\n",
       "      <th>categories</th>\n",
       "      <th>rating</th>\n",
       "      <th>coordinates</th>\n",
       "      <th>transactions</th>\n",
       "      <th>location</th>\n",
       "      <th>phone</th>\n",
       "      <th>display_phone</th>\n",
       "      <th>distance</th>\n",
       "      <th>price</th>\n",
       "    </tr>\n",
       "  </thead>\n",
       "  <tbody>\n",
       "    <tr>\n",
       "      <th>0</th>\n",
       "      <td>_C2rFjlRsKsMawQp8WTjiA</td>\n",
       "      <td>the-hyderabad-indian-grill-minneapolis-minneap...</td>\n",
       "      <td>The Hyderabad Indian Grill - Minneapolis</td>\n",
       "      <td>https://s3-media1.fl.yelpcdn.com/bphoto/DNkQau...</td>\n",
       "      <td>False</td>\n",
       "      <td>https://www.yelp.com/biz/the-hyderabad-indian-...</td>\n",
       "      <td>36</td>\n",
       "      <td>[{'alias': 'indpak', 'title': 'Indian'}]</td>\n",
       "      <td>4.0</td>\n",
       "      <td>{'latitude': 45.064837, 'longitude': -93.2490113}</td>\n",
       "      <td>[delivery, pickup]</td>\n",
       "      <td>{'address1': '765 53rd Ave NE', 'address2': No...</td>\n",
       "      <td>+17636571047</td>\n",
       "      <td>(763) 657-1047</td>\n",
       "      <td>11506.028102</td>\n",
       "      <td>NaN</td>\n",
       "    </tr>\n",
       "    <tr>\n",
       "      <th>1</th>\n",
       "      <td>uETQZ6X9HAGPzozGgqjtiQ</td>\n",
       "      <td>gorkha-palace-minneapolis</td>\n",
       "      <td>Gorkha Palace</td>\n",
       "      <td>https://s3-media4.fl.yelpcdn.com/bphoto/NCJvv7...</td>\n",
       "      <td>False</td>\n",
       "      <td>https://www.yelp.com/biz/gorkha-palace-minneap...</td>\n",
       "      <td>444</td>\n",
       "      <td>[{'alias': 'himalayan', 'title': 'Himalayan/Ne...</td>\n",
       "      <td>4.5</td>\n",
       "      <td>{'latitude': 44.989277, 'longitude': -93.255079}</td>\n",
       "      <td>[delivery, pickup]</td>\n",
       "      <td>{'address1': '23 4th St NE', 'address2': '', '...</td>\n",
       "      <td>+16128863451</td>\n",
       "      <td>(612) 886-3451</td>\n",
       "      <td>3829.046150</td>\n",
       "      <td>$$</td>\n",
       "    </tr>\n",
       "    <tr>\n",
       "      <th>2</th>\n",
       "      <td>zu4zzewGmBYg6z_3vG1xFQ</td>\n",
       "      <td>godavari-truly-south-indian-restaurant-eden-pr...</td>\n",
       "      <td>Godavari Truly South Indian Restaurant</td>\n",
       "      <td>https://s3-media1.fl.yelpcdn.com/bphoto/t-al8g...</td>\n",
       "      <td>False</td>\n",
       "      <td>https://www.yelp.com/biz/godavari-truly-south-...</td>\n",
       "      <td>41</td>\n",
       "      <td>[{'alias': 'indpak', 'title': 'Indian'}]</td>\n",
       "      <td>4.0</td>\n",
       "      <td>{'latitude': 44.851644, 'longitude': -93.429161}</td>\n",
       "      <td>[delivery, pickup]</td>\n",
       "      <td>{'address1': '566 Prairie Center Dr', 'address...</td>\n",
       "      <td>+19529418242</td>\n",
       "      <td>(952) 941-8242</td>\n",
       "      <td>16726.755905</td>\n",
       "      <td>NaN</td>\n",
       "    </tr>\n",
       "  </tbody>\n",
       "</table>\n",
       "</div>"
      ],
      "text/plain": [
       "                       id                                              alias  \\\n",
       "0  _C2rFjlRsKsMawQp8WTjiA  the-hyderabad-indian-grill-minneapolis-minneap...   \n",
       "1  uETQZ6X9HAGPzozGgqjtiQ                          gorkha-palace-minneapolis   \n",
       "2  zu4zzewGmBYg6z_3vG1xFQ  godavari-truly-south-indian-restaurant-eden-pr...   \n",
       "\n",
       "                                       name  \\\n",
       "0  The Hyderabad Indian Grill - Minneapolis   \n",
       "1                             Gorkha Palace   \n",
       "2    Godavari Truly South Indian Restaurant   \n",
       "\n",
       "                                           image_url  is_closed  \\\n",
       "0  https://s3-media1.fl.yelpcdn.com/bphoto/DNkQau...      False   \n",
       "1  https://s3-media4.fl.yelpcdn.com/bphoto/NCJvv7...      False   \n",
       "2  https://s3-media1.fl.yelpcdn.com/bphoto/t-al8g...      False   \n",
       "\n",
       "                                                 url  review_count  \\\n",
       "0  https://www.yelp.com/biz/the-hyderabad-indian-...            36   \n",
       "1  https://www.yelp.com/biz/gorkha-palace-minneap...           444   \n",
       "2  https://www.yelp.com/biz/godavari-truly-south-...            41   \n",
       "\n",
       "                                          categories  rating  \\\n",
       "0           [{'alias': 'indpak', 'title': 'Indian'}]     4.0   \n",
       "1  [{'alias': 'himalayan', 'title': 'Himalayan/Ne...     4.5   \n",
       "2           [{'alias': 'indpak', 'title': 'Indian'}]     4.0   \n",
       "\n",
       "                                         coordinates        transactions  \\\n",
       "0  {'latitude': 45.064837, 'longitude': -93.2490113}  [delivery, pickup]   \n",
       "1   {'latitude': 44.989277, 'longitude': -93.255079}  [delivery, pickup]   \n",
       "2   {'latitude': 44.851644, 'longitude': -93.429161}  [delivery, pickup]   \n",
       "\n",
       "                                            location         phone  \\\n",
       "0  {'address1': '765 53rd Ave NE', 'address2': No...  +17636571047   \n",
       "1  {'address1': '23 4th St NE', 'address2': '', '...  +16128863451   \n",
       "2  {'address1': '566 Prairie Center Dr', 'address...  +19529418242   \n",
       "\n",
       "    display_phone      distance price  \n",
       "0  (763) 657-1047  11506.028102   NaN  \n",
       "1  (612) 886-3451   3829.046150    $$  \n",
       "2  (952) 941-8242  16726.755905   NaN  "
      ]
     },
     "execution_count": 28,
     "metadata": {},
     "output_type": "execute_result"
    }
   ],
   "source": [
    "final_df.head(3)"
   ]
  },
  {
   "cell_type": "code",
   "execution_count": 29,
   "id": "b1690567",
   "metadata": {},
   "outputs": [],
   "source": [
    "# save the final results to a compressed csv\n",
    "final_df.to_csv('Data/results_in_progress_indian.csv.gz', compression='gzip',\n",
    "                index=False)"
   ]
  },
  {
   "cell_type": "code",
   "execution_count": null,
   "id": "70f848a8",
   "metadata": {},
   "outputs": [],
   "source": []
  }
 ],
 "metadata": {
  "kernelspec": {
   "display_name": "Python (dojo-env)",
   "language": "python",
   "name": "dojo-env"
  },
  "language_info": {
   "codemirror_mode": {
    "name": "ipython",
    "version": 3
   },
   "file_extension": ".py",
   "mimetype": "text/x-python",
   "name": "python",
   "nbconvert_exporter": "python",
   "pygments_lexer": "ipython3",
   "version": "3.7.12"
  },
  "toc": {
   "base_numbering": 1,
   "nav_menu": {},
   "number_sections": false,
   "sideBar": true,
   "skip_h1_title": false,
   "title_cell": "Table of Contents",
   "title_sidebar": "Contents",
   "toc_cell": false,
   "toc_position": {},
   "toc_section_display": true,
   "toc_window_display": false
  }
 },
 "nbformat": 4,
 "nbformat_minor": 5
}
